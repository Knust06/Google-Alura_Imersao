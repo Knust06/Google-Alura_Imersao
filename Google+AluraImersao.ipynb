{
  "nbformat": 4,
  "nbformat_minor": 0,
  "metadata": {
    "colab": {
      "provenance": []
    },
    "kernelspec": {
      "name": "python3",
      "display_name": "Python 3"
    },
    "language_info": {
      "name": "python"
    }
  },
  "cells": [
    {
      "cell_type": "code",
      "execution_count": 2,
      "metadata": {
        "id": "PgpGqjqUNilW"
      },
      "outputs": [],
      "source": [
        "!pip install -q -U google-generativeai"
      ]
    },
    {
      "cell_type": "code",
      "source": [
        "import google.generativeai as genai\n",
        "\n",
        "GOOGLE_API_KEY='API AI'\n",
        "genai.configure(api_key=GOOGLE_API_KEY)"
      ],
      "metadata": {
        "id": "FCcjkrMNNqnr"
      },
      "execution_count": 3,
      "outputs": []
    },
    {
      "cell_type": "code",
      "source": [
        "for i in genai.list_models():\n",
        "  if 'generateContent' in i.supported_generation_methods:\n",
        "    print(i.name)"
      ],
      "metadata": {
        "colab": {
          "base_uri": "https://localhost:8080/",
          "height": 142
        },
        "id": "l9kznHx4N78-",
        "outputId": "78ce4c4b-3caa-47de-9a33-60017a028165"
      },
      "execution_count": 5,
      "outputs": [
        {
          "output_type": "stream",
          "name": "stdout",
          "text": [
            "models/gemini-1.0-pro\n",
            "models/gemini-1.0-pro-001\n",
            "models/gemini-1.0-pro-latest\n",
            "models/gemini-1.0-pro-vision-latest\n",
            "models/gemini-1.5-pro-latest\n",
            "models/gemini-pro\n",
            "models/gemini-pro-vision\n"
          ]
        }
      ]
    },
    {
      "cell_type": "code",
      "source": [
        "generation_config = {\n",
        "    'candidate_count': 1,\n",
        "    'temperature': 0.5,\n",
        "}"
      ],
      "metadata": {
        "id": "5eYK6_s6OZjg"
      },
      "execution_count": 6,
      "outputs": []
    },
    {
      "cell_type": "code",
      "source": [
        "safety_settings = {\n",
        "    'HARASSMENT': 'BLOCK_NONE',\n",
        "    'HATE': 'BLOCK_NONE',\n",
        "    'SEXUAL': 'BLOCK_NONE',\n",
        "    'DANGEROUS': 'BLOCK_NONE'\n",
        "}"
      ],
      "metadata": {
        "id": "ncxhexWgQBv9"
      },
      "execution_count": 7,
      "outputs": []
    },
    {
      "cell_type": "code",
      "source": [
        "model = genai.GenerativeModel(model_name='gemini-1.0-pro', generation_config=generation_config, safety_settings=safety_settings)"
      ],
      "metadata": {
        "id": "3LuQiQleQeZq"
      },
      "execution_count": 9,
      "outputs": []
    },
    {
      "cell_type": "code",
      "source": [
        "response = model.generate_content('Como eu posso usar o Colab para aumentar minha produtividade?')\n",
        "print(response.text)"
      ],
      "metadata": {
        "colab": {
          "base_uri": "https://localhost:8080/",
          "height": 535
        },
        "id": "Z4Rkq5TRRRjT",
        "outputId": "f173e730-3848-4e9c-d553-cb86c78a5c64"
      },
      "execution_count": 10,
      "outputs": [
        {
          "output_type": "stream",
          "name": "stdout",
          "text": [
            "**Aproveite os recursos de colaboração:**\n",
            "\n",
            "* **Compartilhe notebooks:** Colabore com outros em notebooks em tempo real, permitindo que várias pessoas trabalhem no mesmo projeto simultaneamente.\n",
            "* **Adicione comentários:** Deixe comentários e anotações nos notebooks para facilitar a comunicação e o feedback.\n",
            "* **Controle de versão:** Use o Git integrado para rastrear alterações no notebook e colaborar em diferentes versões.\n",
            "\n",
            "**Use modelos e bibliotecas pré-construídos:**\n",
            "\n",
            "* **Modelos pré-treinados:** Acesse uma ampla gama de modelos pré-treinados para tarefas como visão computacional, processamento de linguagem natural e aprendizado de máquina.\n",
            "* **Bibliotecas abrangentes:** Colab vem com bibliotecas populares como TensorFlow, PyTorch, Keras e pandas, permitindo que você se concentre em sua tarefa sem precisar instalar e configurar software.\n",
            "\n",
            "**Automatize tarefas:**\n",
            "\n",
            "* **Células de código:** Execute blocos de código individualmente ou em sequência, permitindo que você execute tarefas repetitivas ou complexas de forma eficiente.\n",
            "* **Agendador de tarefas:** Programe notebooks para serem executados em horários específicos, automatizando tarefas como treinamento de modelos ou geração de relatórios.\n",
            "* **Integração com o Google Drive:** Armazene e acesse seus notebooks no Google Drive, permitindo fácil acesso e compartilhamento.\n",
            "\n",
            "**Melhore a organização e a legibilidade:**\n",
            "\n",
            "* **Hierarquia de células:** Organize seu código em células aninhadas para melhorar a legibilidade e a estrutura.\n",
            "* **Formatação de texto:** Use cabeçalhos, listas e marcadores para tornar seus notebooks mais fáceis de ler e navegar.\n",
            "* **Documentação embutida:** Adicione comentários e documentação aos seus notebooks para explicar o código e facilitar a compreensão.\n",
            "\n",
            "**Outras dicas de produtividade:**\n",
            "\n",
            "* **Use atalhos de teclado:** Aprenda atalhos de teclado para acelerar a navegação e a edição.\n",
            "* **Personalize seu ambiente:** Ajuste as configurações do Colab para atender às suas preferências, como tamanho da fonte e esquema de cores.\n",
            "* **Aproveite os recursos da GPU:** Use GPUs para acelerar tarefas de computação intensiva, como treinamento de modelos ou processamento de dados.\n",
            "* **Integre com outros serviços do Google:** Conecte-se a outros serviços do Google, como BigQuery ou Cloud Storage, para estender as funcionalidades do Colab.\n"
          ]
        }
      ]
    },
    {
      "cell_type": "code",
      "source": [
        "chat = model.start_chat(history=[])"
      ],
      "metadata": {
        "id": "E6DKNlMMRyP6"
      },
      "execution_count": 11,
      "outputs": []
    },
    {
      "cell_type": "code",
      "source": [
        "prompt = input('Esperando sua pergunta:')\n",
        "\n",
        "\n",
        "while prompt != 'fim':\n",
        "  response = chat.send_message(prompt)\n",
        "  print('Resposta:', response.text, '\\n')\n",
        "  prompt = input('Esperando sua pergunta:')"
      ],
      "metadata": {
        "colab": {
          "base_uri": "https://localhost:8080/",
          "height": 88
        },
        "id": "pyB30XwqSMo9",
        "outputId": "6209a718-22dd-420b-905e-dadee0a330ea"
      },
      "execution_count": 13,
      "outputs": [
        {
          "name": "stdout",
          "output_type": "stream",
          "text": [
            "Esperando sua pergunta:Qual é a capital do Paraguai ?\n",
            "Resposta: Assunção \n",
            "\n",
            "Esperando sua pergunta:fim\n"
          ]
        }
      ]
    },
    {
      "cell_type": "code",
      "source": [
        "chat"
      ],
      "metadata": {
        "colab": {
          "base_uri": "https://localhost:8080/"
        },
        "id": "Q0upsE7fVS9V",
        "outputId": "1c4acfd5-4e19-4c8f-bf7b-d17e026aabdb"
      },
      "execution_count": 16,
      "outputs": [
        {
          "output_type": "execute_result",
          "data": {
            "text/plain": [
              "ChatSession(\n",
              "    model=genai.GenerativeModel(\n",
              "        model_name='models/gemini-1.0-pro',\n",
              "        generation_config={'candidate_count': 1, 'temperature': 0.5},\n",
              "        safety_settings={<HarmCategory.HARM_CATEGORY_HARASSMENT: 7>: <HarmBlockThreshold.BLOCK_NONE: 4>, <HarmCategory.HARM_CATEGORY_HATE_SPEECH: 8>: <HarmBlockThreshold.BLOCK_NONE: 4>, <HarmCategory.HARM_CATEGORY_SEXUALLY_EXPLICIT: 9>: <HarmBlockThreshold.BLOCK_NONE: 4>, <HarmCategory.HARM_CATEGORY_DANGEROUS_CONTENT: 10>: <HarmBlockThreshold.BLOCK_NONE: 4>},\n",
              "        tools=None,\n",
              "        system_instruction=None,\n",
              "    ),\n",
              "    history=[glm.Content({'parts': [{'text': 'Qual é a cap...do Paraguai ?'}], 'role': 'user'}), glm.Content({'parts': [{'text': 'Assunção'}], 'role': 'model'})]\n",
              ")"
            ]
          },
          "metadata": {},
          "execution_count": 16
        }
      ]
    },
    {
      "cell_type": "code",
      "source": [
        "chat.history"
      ],
      "metadata": {
        "colab": {
          "base_uri": "https://localhost:8080/"
        },
        "id": "UG65BxUQVVf3",
        "outputId": "4cd0762b-c632-407f-ad65-409f8aa7788d"
      },
      "execution_count": 17,
      "outputs": [
        {
          "output_type": "execute_result",
          "data": {
            "text/plain": [
              "[parts {\n",
              "   text: \"Qual \\303\\251 a capital do Paraguai ?\"\n",
              " }\n",
              " role: \"user\",\n",
              " parts {\n",
              "   text: \"Assun\\303\\247\\303\\243o\"\n",
              " }\n",
              " role: \"model\"]"
            ]
          },
          "metadata": {},
          "execution_count": 17
        }
      ]
    },
    {
      "cell_type": "code",
      "source": [
        "import textwrap\n",
        "from IPython.display import display\n",
        "from IPython.display import Markdown\n",
        "\n",
        "def to_markdown(text):\n",
        "  \"\"\"Converts the given text to markdown format.\"\"\"\n",
        "  text = text.replace(\"'\", \"*\")\n",
        "  return Markdown(textwrap.indent(text, '> ', predicate=lambda _: True))\n",
        "\n",
        "#Imprimindo o histórico\n",
        "for message in chat.history:\n",
        "  display(to_markdown(f\"**{message.role}:** {message.parts[0].text}\"))\n",
        "print(\"---\")"
      ],
      "metadata": {
        "colab": {
          "base_uri": "https://localhost:8080/",
          "height": 112
        },
        "id": "fbedr3pITQ5O",
        "outputId": "579bd1fb-ccd9-48c9-9a7c-1aea7bffef99"
      },
      "execution_count": 18,
      "outputs": [
        {
          "output_type": "display_data",
          "data": {
            "text/plain": [
              "<IPython.core.display.Markdown object>"
            ],
            "text/markdown": "> **user:** Qual é a capital do Paraguai ?"
          },
          "metadata": {}
        },
        {
          "output_type": "display_data",
          "data": {
            "text/plain": [
              "<IPython.core.display.Markdown object>"
            ],
            "text/markdown": "> **model:** Assunção"
          },
          "metadata": {}
        },
        {
          "output_type": "stream",
          "name": "stdout",
          "text": [
            "---\n"
          ]
        }
      ]
    },
    {
      "cell_type": "code",
      "source": [],
      "metadata": {
        "id": "5NIF8dlZVnIR"
      },
      "execution_count": 18,
      "outputs": []
    }
  ]
}